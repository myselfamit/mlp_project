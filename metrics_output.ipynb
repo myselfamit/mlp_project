{
 "cells": [
  {
   "cell_type": "code",
   "execution_count": 16,
   "id": "7e9484bf-1905-492b-bcf3-bfca5c38bf99",
   "metadata": {},
   "outputs": [
    {
     "name": "stdout",
     "output_type": "stream",
     "text": [
      "Files in folder: ['.ipynb_checkpoints', 'metrics.npy', 'pred.npy', 'true.npy']\n",
      "Predictions shape: (1776, 96, 13)\n",
      "True values shape: (1776, 96, 13)\n",
      "metrics shape: (5,)\n",
      "Metrics: [np.float32(1.4925741), np.float32(0.70561975)]\n"
     ]
    }
   ],
   "source": [
    "import os\n",
    "import numpy as np\n",
    "\n",
    "# Path to the results folder\n",
    "folder_path = \"results/air_quality_96_96_single_target_Autoformer_custom_ftM_sl96_ll48_pl96_dm512_nh8_el2_dl1_df2048_fc3_ebtimeF_dtTrue_AirQuality_0\"\n",
    "\n",
    "# List files\n",
    "print(\"Files in folder:\", os.listdir(folder_path))\n",
    "\n",
    "# Load available files\n",
    "pred = np.load(f\"{folder_path}/pred.npy\")\n",
    "true = np.load(f\"{folder_path}/true.npy\")\n",
    "metrics = np.load(f\"{folder_path}/metrics.npy\")\n",
    "\n",
    "# Check shapes and contents\n",
    "print(\"Predictions shape:\", pred.shape)\n",
    "print(\"True values shape:\", true.shape)\n",
    "print(\"metrics shape:\", metrics.shape)\n",
    "\n",
    "# Note: metric.npy is missing, so compute metrics manually\n",
    "mse = np.mean((true - pred) ** 2)\n",
    "mae = np.mean(np.abs(true - pred))\n",
    "print(\"Metrics:\", [mse, mae])"
   ]
  },
  {
   "cell_type": "code",
   "execution_count": 17,
   "id": "b1cd7483-b6c5-4ff8-ab69-1c0682e2c101",
   "metadata": {},
   "outputs": [
    {
     "name": "stdout",
     "output_type": "stream",
     "text": [
      "Files in folder: ['metrics.npy', 'pred.npy', 'true.npy']\n",
      "Predictions shape: (10444, 96, 21)\n",
      "True values shape: (10444, 96, 21)\n",
      "metrics shape: (5,)\n",
      "Metrics: [np.float32(0.28119513), np.float32(0.3515269)]\n"
     ]
    }
   ],
   "source": [
    "# Path to the results folder\n",
    "folder_path = \"results/weather_96_96_Autoformer_custom_ftM_sl96_ll48_pl96_dm512_nh8_el2_dl1_df2048_fc3_ebtimeF_dtTrue_Exp_0\"\n",
    "\n",
    "# List files\n",
    "print(\"Files in folder:\", os.listdir(folder_path))\n",
    "\n",
    "# Load available files\n",
    "pred = np.load(f\"{folder_path}/pred.npy\")\n",
    "true = np.load(f\"{folder_path}/true.npy\")\n",
    "metrics = np.load(f\"{folder_path}/metrics.npy\")\n",
    "\n",
    "# Check shapes and contents\n",
    "print(\"Predictions shape:\", pred.shape)\n",
    "print(\"True values shape:\", true.shape)\n",
    "print(\"metrics shape:\", metrics.shape)\n",
    "\n",
    "# Note: metric.npy is missing, so compute metrics manually\n",
    "mse = np.mean((true - pred) ** 2)\n",
    "mae = np.mean(np.abs(true - pred))\n",
    "print(\"Metrics:\", [mse, mae])"
   ]
  },
  {
   "cell_type": "code",
   "execution_count": null,
   "id": "0f03de1b-dccd-49c4-b606-0330a8afd6de",
   "metadata": {},
   "outputs": [],
   "source": []
  },
  {
   "cell_type": "code",
   "execution_count": null,
   "id": "22014edb-8458-4c48-87b0-6534da585280",
   "metadata": {},
   "outputs": [],
   "source": []
  }
 ],
 "metadata": {
  "kernelspec": {
   "display_name": "Python 3 (ipykernel)",
   "language": "python",
   "name": "python3"
  },
  "language_info": {
   "codemirror_mode": {
    "name": "ipython",
    "version": 3
   },
   "file_extension": ".py",
   "mimetype": "text/x-python",
   "name": "python",
   "nbconvert_exporter": "python",
   "pygments_lexer": "ipython3",
   "version": "3.13.2"
  }
 },
 "nbformat": 4,
 "nbformat_minor": 5
}
